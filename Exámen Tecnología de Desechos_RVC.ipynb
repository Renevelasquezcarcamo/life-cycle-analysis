{
 "cells": [
  {
   "cell_type": "code",
   "execution_count": 1,
   "outputs": [],
   "source": [
    "import chemicals\n",
    "import chemics as cm\n",
    "import scipy\n",
    "import pandas as pd\n",
    "import pint\n",
    "from chemicals.iapws import iapws95_Tsat, iapws95_Psat\n",
    "from sympy import symbols, solve\n",
    "ureg = pint.UnitRegistry()"
   ],
   "metadata": {
    "collapsed": false,
    "pycharm": {
     "name": "#%%\n"
    }
   }
  },
  {
   "cell_type": "code",
   "execution_count": 2,
   "outputs": [],
   "source": [
    "def delete_ash_water(fuel):\n",
    "    print('Eliminando el agua y las cenizas de la composición porcentual del combustible...')\n",
    "    ash_water = {}\n",
    "    for element in fuel:\n",
    "        if element == 'H2O':\n",
    "            ash_water['H2O'] = fuel['H2O']\n",
    "        if element == 'Ash':\n",
    "            ash_water['Ash'] = fuel['Ash']\n",
    "    new_fuel = fuel.copy()\n",
    "    try:\n",
    "        del new_fuel['Ash']\n",
    "        del new_fuel['H2O']\n",
    "        del new_fuel['Cl']\n",
    "    except:\n",
    "        pass\n",
    "    correction_factor = (100 - sum(ash_water.values()))/100\n",
    "    print('Aplicando el factor de corrección...')\n",
    "    for element in new_fuel:\n",
    "        new_fuel[element] = fuel[element] / correction_factor\n",
    "    print('La composición del combustible ahora es:')\n",
    "    print(new_fuel)\n",
    "    return new_fuel"
   ],
   "metadata": {
    "collapsed": false,
    "pycharm": {
     "name": "#%%\n"
    }
   }
  },
  {
   "cell_type": "code",
   "execution_count": 3,
   "outputs": [],
   "source": [
    "def elemental_composition(fuel, elemental_comp = True):\n",
    "    print('Obteniendo composición molecular...')\n",
    "    peso_molecular = {}\n",
    "    print('Transformando composición porcentual a composición elemental a traves del peso molecular...')\n",
    "    for element in fuel.keys():\n",
    "        if element == 'Ash':\n",
    "            peso_molecular[element] = 0\n",
    "        else:\n",
    "            if elemental_comp:\n",
    "                peso_molecular[element] = fuel[element]/cm.mw(element)\n",
    "            else:\n",
    "                peso_molecular[element] = fuel[element]\n",
    "    print(peso_molecular)\n",
    "    return peso_molecular"
   ],
   "metadata": {
    "collapsed": false,
    "pycharm": {
     "name": "#%%\n"
    }
   }
  },
  {
   "cell_type": "code",
   "execution_count": 4,
   "outputs": [],
   "source": [
    "def get_reactants_and_products(fuel, relacion_o2n2):\n",
    "    react = fuel\n",
    "    sol_s = chemicals.combustion_stoichiometry(fuel)\n",
    "    print(sol_s)\n",
    "    prods = {}\n",
    "    for key in react:\n",
    "        react[key] =round(react[key], 3)\n",
    "    for element in sol_s:\n",
    "        if sol_s[element] < 0:\n",
    "            react[element] = - round(sol_s[element],3)\n",
    "        else:\n",
    "            prods[element] = round(sol_s[element],3)\n",
    "    react['N2'] = round(relacion_o2n2 * abs(sol_s['O2']), 3)\n",
    "    prods['N2'] = round(relacion_o2n2 * abs(sol_s['O2']), 3)\n",
    "    print('Los reactantes son:')\n",
    "    print(react)\n",
    "    print('Los productos son:')\n",
    "    print(prods)\n",
    "    return react, prods"
   ],
   "metadata": {
    "collapsed": false,
    "pycharm": {
     "name": "#%%\n"
    }
   }
  },
  {
   "cell_type": "code",
   "execution_count": 5,
   "outputs": [],
   "source": [
    "def get_excess_air(reactantes, productos, lambda_air):\n",
    "    productos['N2'] = productos['N2'] * lambda_air\n",
    "    productos['O2'] = reactantes['O2'] * 2 * lambda_air - productos['CO2'] * 2 - productos['H2O']\n",
    "    reactantes['N2'] = reactantes['N2'] * lambda_air\n",
    "    reactantes['O2'] = reactantes['O2'] * lambda_air\n",
    "    print('Con exceso de aire...')\n",
    "    print('Los reactantes son:')\n",
    "    print(reactantes)\n",
    "    print('Los productos son:')\n",
    "    print(productos)\n",
    "    return reactantes, productos\n",
    "#lambda_air = 1.3"
   ],
   "metadata": {
    "collapsed": false,
    "pycharm": {
     "name": "#%%\n"
    }
   }
  },
  {
   "cell_type": "code",
   "execution_count": 6,
   "outputs": [],
   "source": [
    "def get_fuel(fuel_name, file = 'coal_composition.csv'):\n",
    "    df = pd.read_csv(file)\n",
    "    elements = df.columns.tolist()[1:9]\n",
    "    composition = df[df['fuel_type'] == fuel_name][elements].values.flatten().tolist()\n",
    "    create_fuel = dict(zip(elements, composition))\n",
    "    return create_fuel"
   ],
   "metadata": {
    "collapsed": false,
    "pycharm": {
     "name": "#%%\n"
    }
   }
  },
  {
   "cell_type": "code",
   "execution_count": 7,
   "outputs": [],
   "source": [
    "def get_mass_molecular(react, prods):\n",
    "    aire = {}\n",
    "    combustible = {}\n",
    "    productos_masa = {}\n",
    "    for element in react:\n",
    "        if element == 'O2' or element == 'N2':\n",
    "            aire[element]  = react[element] * cm.mw(element)\n",
    "        else:\n",
    "            combustible[element] = react[element] * cm.mw(element)\n",
    "    for element in prods:\n",
    "        productos_masa[element] = prods[element] * cm.mw(element)\n",
    "    productos_masa = {k: v for (k, v) in productos_masa.items() if v >= 0}\n",
    "    print('La masa de combustible es de: ', (round(sum(combustible.values()),2)),'[kg]')\n",
    "    print('La masa de aire es de: ', (round(sum(aire.values()),2)),'[kg]')\n",
    "    print('La masa de los productos es de: ', productos_masa)\n",
    "    print('La suma de masa de los productos es de: ', (round(sum(productos_masa.values()))),'[kg]')\n",
    "    suma_reactantes = (round(sum(combustible.values()))) + (round(sum(aire.values())))\n",
    "    suma_productos = (round(sum(productos_masa.values())))\n",
    "    diferencia = suma_reactantes - suma_productos\n",
    "    if diferencia < 1:\n",
    "        print('Se comprueba la conservación de masa')\n",
    "    else:\n",
    "        print('Existe una diferencia de ', diferencia, 'en el balance de masa')\n",
    "    return combustible, aire, productos_masa"
   ],
   "metadata": {
    "collapsed": false,
    "pycharm": {
     "name": "#%%\n"
    }
   }
  },
  {
   "cell_type": "code",
   "execution_count": 8,
   "outputs": [],
   "source": [
    "def get_rac(air, fuel, products): #másico o molar\n",
    "    sum_air = (round(sum(air.values())))\n",
    "    sum_fuel = (round(sum(fuel.values())))\n",
    "    rac = sum_air / sum_fuel #kg aire / kg combustible\n",
    "    gases_humedos = (round(sum(products.values()))) / sum_fuel\n",
    "    gases_secos = ((round(sum(products.values())))  - products['H2O']) / sum_fuel\n",
    "    print('La relación Aire / Combustible (RAC) másico es:', rac)\n",
    "    print('La relación Gases húmedos / Combustible es:', gases_humedos)\n",
    "    print('La relación Gases secos / Combustible es:', gases_secos)\n",
    "    return rac, gases_secos, gases_humedos"
   ],
   "metadata": {
    "collapsed": false,
    "pycharm": {
     "name": "#%%\n"
    }
   }
  },
  {
   "cell_type": "code",
   "execution_count": 9,
   "outputs": [],
   "source": [
    "def epa_factors(fuel_dry, pcs_mjkg):\n",
    "    pcs_mjkg = pcs_mjkg.to('british_thermal_unit/lb')\n",
    "    #Dry factor\n",
    "    fd_list = [fuel_dry['H'], fuel_dry['C'], fuel_dry['S'], fuel_dry['N'], fuel_dry['O']]\n",
    "    fd_factors = [3.64,1.53,0.57,0.14,-0.46]\n",
    "    fd = [a * b for a,b in zip(fd_list,fd_factors)]\n",
    "    fd = sum(fd) / pcs_mjkg.magnitude * ureg.cubic_feet / ureg.british_thermal_unit\n",
    "\n",
    "    #Wet factor\n",
    "    fw_list = [fuel_dry['H'], fuel_dry['C'], fuel_dry['S'], fuel_dry['N'], fuel_dry['O'], fuel_wet['H2O']]\n",
    "    fw_factors = [5.56,1.53,0.575,0.14,-0.46,0.21]\n",
    "    fw = [a * b for a,b in zip(fw_list,fw_factors)]\n",
    "    fw = sum(fw) / pcs_mjkg.magnitude * ureg.cubic_feet / ureg.british_thermal_unit\n",
    "\n",
    "    #Carbon factor\n",
    "    fc = fuel_dry['C'] * 0.321\n",
    "    fc = fc / pcs_mjkg.magnitude * ureg.cubic_feet / ureg.british_thermal_unit\n",
    "\n",
    "    print('El factor fd es:', fd)\n",
    "    print('El factor fw es:', fw)\n",
    "    print('El factor fc es:', fc)\n",
    "    return fd, fw, fc"
   ],
   "metadata": {
    "collapsed": false,
    "pycharm": {
     "name": "#%%\n"
    }
   }
  },
  {
   "cell_type": "code",
   "execution_count": 58,
   "outputs": [],
   "source": [
    "def get_epa_flows(fuel_mass_wu, pcs_mjkg, lambda_aire, fd, fw, fc):\n",
    "    pcs_mjkg = pcs_mjkg.to('british_thermal_unit/lb')\n",
    "    gas_flow_dry = fuel_mass_wu * pcs_mjkg * fd * lambda_aire\n",
    "    gas_flow_wet = fuel_mass_wu * pcs_mjkg * fw * lambda_aire\n",
    "    gas_flow_co2 = fuel_mass_wu * pcs_mjkg * fc * lambda_aire\n",
    "    print('El flujo de gases secos según EPA es:', gas_flow_dry.to('cubic_feet/min'))\n",
    "    print('El flujo de gases húmedos según EPA es:', gas_flow_wet.to('cubic_feet/min'))\n",
    "    print('El flujo de gases CO2 según EPA es:', gas_flow_co2.to('cubic_feet/min'))\n",
    "    return gas_flow_dry, gas_flow_wet, gas_flow_co2"
   ],
   "metadata": {
    "collapsed": false,
    "pycharm": {
     "name": "#%%\n"
    }
   }
  },
  {
   "cell_type": "code",
   "execution_count": 149,
   "outputs": [],
   "source": [
    "def analytic_flow(masa_productos, masa_combustible, flujo_mass_fuel, rac_dry, rac_wet, tk_op, p_op):\n",
    "    flujo_mass_fuel = flujo_mass_fuel.magnitude * ureg.kilogram / ureg.hour\n",
    "    peso_molecular_gases = (cm.mw('O2') * aire_O2 + cm.mw('N2') * aire_N2) / 100\n",
    "    rho_gas = cm.gas_density.rhog(peso_molecular_gases, p_op.magnitude, tk_op.magnitude) / ureg.meter**3 * ureg.kilogram\n",
    "    masa_co2 = masa_productos['CO2']\n",
    "    rho_co2 = cm.gas_density.rhog(cm.mw('CO2'), p_op.magnitude, tk_op.magnitude)/ ureg.meter**3 * ureg.kilogram\n",
    "    masa_combustible = sum(masa_combustible.values())\n",
    "    mass_gas_co2 = (masa_co2 / masa_combustible)\n",
    "    vol_gases_dry = rac_dry / rho_gas * flujo_mass_fuel\n",
    "    vol_gases_wet = rac_wet / rho_gas * flujo_mass_fuel\n",
    "    vol_gases_co2 = mass_gas_co2 / rho_co2 * flujo_mass_fuel\n",
    "    print('El flujo de gases secos análiticos es:', vol_gases_dry.to('cubic_feet/min'))\n",
    "    print('El flujo de gases húmedos análiticos es:', vol_gases_wet.to('cubic_feet/min'))\n",
    "    print('El flujo de gases CO2 análiticos es:', vol_gases_co2.to('cubic_feet/min'))\n",
    "    return vol_gases_dry, vol_gases_wet, vol_gases_co2"
   ],
   "metadata": {
    "collapsed": false,
    "pycharm": {
     "name": "#%%\n"
    }
   }
  },
  {
   "cell_type": "code",
   "execution_count": null,
   "outputs": [],
   "source": [],
   "metadata": {
    "collapsed": false,
    "pycharm": {
     "name": "#%%\n"
    }
   }
  },
  {
   "cell_type": "code",
   "execution_count": 60,
   "outputs": [],
   "source": [
    "def epa_analysis(epa, analytic):\n",
    "    epa_dry, epa_wet, epa_co2 = [abs(epa[i]- analytic[i]) / epa[i]*100 for i in range(len(epa))]\n",
    "    print('El porcentaje de error entre el valor análitico y el valor EPA son los siguientes:')\n",
    "    print('Flujo seco:', round(epa_dry.magnitude,2), '%')\n",
    "    print('Flujo húmedo:', round(epa_wet.magnitude,2), '%')\n",
    "    print('Flujo CO2:', round(epa_co2.magnitude,2), '%')\n",
    "    return epa_dry, epa_wet, epa_co2"
   ],
   "metadata": {
    "collapsed": false,
    "pycharm": {
     "name": "#%%\n"
    }
   }
  },
  {
   "cell_type": "code",
   "execution_count": 61,
   "outputs": [],
   "source": [
    "def get_temperatura_rocio(productos, presion = 101325):\n",
    "    presion_parcial = productos['H2O'] / sum(productos.values()) * presion\n",
    "    print('La presión parcial es:', round(presion_parcial, 3), '[Pa]')\n",
    "    tsat = iapws95_Tsat(presion_parcial) - 273.15\n",
    "    print('La temperatura de rocío es: ', round(tsat, 3), '°C')\n",
    "    return tsat, presion_parcial"
   ],
   "metadata": {
    "collapsed": false,
    "pycharm": {
     "name": "#%%\n"
    }
   }
  },
  {
   "cell_type": "code",
   "execution_count": 62,
   "outputs": [],
   "source": [
    "def get_masa_condensada(t_operacion, prods, ptotal = 101325):\n",
    "    pcond = iapws95_Psat(t_operacion + 273.15)\n",
    "    nh2o = prods['H2O']\n",
    "    ntotal = sum(prods.values())\n",
    "    x = symbols('x')\n",
    "    expr = (nh2o-x)/(ntotal-x) - (pcond/ptotal)\n",
    "    sol = solve(expr)\n",
    "    sol = sol[0]\n",
    "    print('Se condensan', round(sol,3) ,'moles de H2O')\n",
    "    return sol"
   ],
   "metadata": {
    "collapsed": false,
    "pycharm": {
     "name": "#%%\n"
    }
   }
  },
  {
   "cell_type": "code",
   "execution_count": 64,
   "outputs": [],
   "source": [
    "info_caldera = pd.read_excel('datos_prueba.xlsx', sheet_name='caldera')\n",
    "concentracion_co2_df = pd.read_excel('datos_prueba.xlsx', sheet_name='concentraciones_CO2')"
   ],
   "metadata": {
    "collapsed": false,
    "pycharm": {
     "name": "#%%\n"
    }
   }
  },
  {
   "cell_type": "code",
   "execution_count": 65,
   "outputs": [],
   "source": [
    "#Composición aire\n",
    "aire_O2 = 21\n",
    "aire_N2 = 79\n",
    "razon_N2O2 = aire_N2 / aire_O2"
   ],
   "metadata": {
    "collapsed": false,
    "pycharm": {
     "name": "#%%\n"
    }
   }
  },
  {
   "cell_type": "code",
   "execution_count": 151,
   "outputs": [],
   "source": [
    "#Datos del problema\n",
    "concentracion_ppm = 89.44 #mg/m3n\n",
    "concentracion_co2 = concentracion_co2_df['ppm'].mean()\n",
    "flujo_masa_combustible = 3000 * ureg.kilogram / ureg.hour #kg/h\n",
    "PCS = 16.12 * ureg.megajoule/ureg.kilogram #MJ/kg\n",
    "prod_vapor = 7000 * ureg.kilogram / ureg.hour\n",
    "p_atm = 101325 * ureg.pascal\n",
    "t_amb = (20 + 273.15) * ureg.degree_Kelvin\n",
    "t_gases = (info_caldera['Temperatura Gases [°C]'].mean() + 273.15) * ureg.degree_Kelvin\n",
    "v_gases = info_caldera['Caudal [m3N/h]'].mean() * ureg.meter_per_second\n",
    "O2_medido = info_caldera['O2 [%]'].mean()\n",
    "fuel_wet = {'C':45, 'H':5.5, 'O':43.5, 'S':0.08, 'N':0.09, 'H2O':0, 'Ash':5.83}"
   ],
   "metadata": {
    "collapsed": false,
    "pycharm": {
     "name": "#%%\n"
    }
   }
  },
  {
   "cell_type": "code",
   "execution_count": 152,
   "outputs": [
    {
     "data": {
      "text/plain": "1.3665943600867678"
     },
     "execution_count": 152,
     "metadata": {},
     "output_type": "execute_result"
    }
   ],
   "source": [
    "lambda_aire = aire_O2 / (aire_O2 - O2_medido)\n",
    "lambda_aire"
   ],
   "metadata": {
    "collapsed": false,
    "pycharm": {
     "name": "#%%\n"
    }
   }
  },
  {
   "cell_type": "code",
   "execution_count": 156,
   "outputs": [
    {
     "name": "stdout",
     "output_type": "stream",
     "text": [
      "Eliminando el agua y las cenizas de la composición porcentual del combustible...\n",
      "Aplicando el factor de corrección...\n",
      "La composición del combustible ahora es:\n",
      "{'C': 47.785919082510354, 'H': 5.84050122119571, 'O': 46.193055113093344, 'S': 0.08495274503557397, 'N': 0.09557183816502071}\n",
      "Obteniendo composición molecular...\n",
      "Transformando composición porcentual a composición elemental a traves del peso molecular...\n",
      "{'C': 3.9785129533353056, 'H': 5.7941480369005065, 'O': 2.8872463974681755, 'S': 0.0026498048981776034, 'N': 0.0068231482947826595}\n",
      "{'CO2': 3.9785129533353056, 'O2': -3.9860765687245223, 'SO2': 0.0026498048981776034, 'N2': 0.0034115741473913297, 'H2O': 2.8970740184502533}\n",
      "Los reactantes son:\n",
      "{'C': 3.979, 'H': 5.794, 'O': 2.887, 'S': 0.003, 'N': 0.007, 'O2': 3.986, 'N2': 14.995}\n",
      "Los productos son:\n",
      "{'CO2': 3.979, 'SO2': 0.003, 'N2': 14.995, 'H2O': 2.897}\n",
      "La masa de combustible es de:  100.02 [kg]\n",
      "La masa de aire es de:  547.61 [kg]\n",
      "La masa de los productos es de:  {'CO2': 175.11181100000002, 'SO2': 0.192174, 'N2': 420.06992999999994, 'H2O': 52.189454999999995}\n",
      "La suma de masa de los productos es de:  648 [kg]\n",
      "Se comprueba la conservación de masa\n",
      "La relación Aire / Combustible (RAC) másico es: 5.48\n",
      "La relación Gases húmedos / Combustible es: 6.48\n",
      "La relación Gases secos / Combustible es: 5.958105450000001\n",
      "La presión parcial es: 13419.517 [Pa]\n",
      "La temperatura de rocío es:  51.68 °C\n",
      "El factor fd es: 0.010560052789324452 cubic_foot / british_thermal_unit\n",
      "El factor fw es: 0.012178179517480178 cubic_foot / british_thermal_unit\n",
      "El factor fc es: 0.002213348034942754 cubic_foot / british_thermal_unit\n",
      "El flujo de gases secos según EPA es: 8067.251926149428 cubic_foot / minute\n",
      "El flujo de gases húmedos según EPA es: 9303.404455392914 cubic_foot / minute\n",
      "El flujo de gases CO2 según EPA es: 1690.8661873529559 cubic_foot / minute\n",
      "El flujo de gases secos análiticos es: 14679.46287817027 cubic_foot / minute\n",
      "El flujo de gases húmedos análiticos es: 15965.296393091425 cubic_foot / minute\n",
      "El flujo de gases CO2 análiticos es: 2827.901125241872 cubic_foot / minute\n"
     ]
    },
    {
     "data": {
      "text/plain": "(24940.565902446375 <Unit('meter ** 3 / hour')>,\n 27125.210925538842 <Unit('meter ** 3 / hour')>,\n 4804.634540449095 <Unit('meter ** 3 / hour')>)"
     },
     "execution_count": 156,
     "metadata": {},
     "output_type": "execute_result"
    }
   ],
   "source": [
    "#Estequeométrico\n",
    "fuel_dry = delete_ash_water(fuel_wet)\n",
    "fuel = elemental_composition(fuel_dry)\n",
    "react, prods = get_reactants_and_products(fuel, razon_N2O2)\n",
    "fmass, airemass, productos_mass = get_mass_molecular(react, prods)\n",
    "rac, rac_seco,rac_humedo = get_rac(airemass, fmass, productos_mass)\n",
    "temp_rocio, p_parcial = get_temperatura_rocio(prods)\n",
    "fd, fw, fc = epa_factors(fuel_dry, PCS)\n",
    "epa = get_epa_flows(flujo_masa_combustible, PCS, 1, fd, fw, fc)\n",
    "analytic_flow(productos_mass, fmass, flujo_masa_combustible, rac_seco, rac_humedo, t_gases, p_atm)"
   ],
   "metadata": {
    "collapsed": false,
    "pycharm": {
     "name": "#%%\n"
    }
   }
  },
  {
   "cell_type": "code",
   "execution_count": 154,
   "outputs": [
    {
     "name": "stdout",
     "output_type": "stream",
     "text": [
      "Eliminando el agua y las cenizas de la composición porcentual del combustible...\n",
      "Aplicando el factor de corrección...\n",
      "La composición del combustible ahora es:\n",
      "{'C': 47.785919082510354, 'H': 5.84050122119571, 'O': 46.193055113093344, 'S': 0.08495274503557397, 'N': 0.09557183816502071}\n",
      "Obteniendo composición molecular...\n",
      "Transformando composición porcentual a composición elemental a traves del peso molecular...\n",
      "{'C': 3.9785129533353056, 'H': 5.7941480369005065, 'O': 2.8872463974681755, 'S': 0.0026498048981776034, 'N': 0.0068231482947826595}\n",
      "{'CO2': 3.9785129533353056, 'O2': -3.9860765687245223, 'SO2': 0.0026498048981776034, 'N2': 0.0034115741473913297, 'H2O': 2.8970740184502533}\n",
      "Los reactantes son:\n",
      "{'C': 3.979, 'H': 5.794, 'O': 2.887, 'S': 0.003, 'N': 0.007, 'O2': 3.986, 'N2': 14.995}\n",
      "Los productos son:\n",
      "{'CO2': 3.979, 'SO2': 0.003, 'N2': 14.995, 'H2O': 2.897}\n",
      "Con exceso de aire...\n",
      "Los reactantes son:\n",
      "{'C': 3.979, 'H': 5.794, 'O': 2.887, 'S': 0.003, 'N': 0.007, 'O2': 5.447245119305856, 'N2': 20.49208242950108}\n",
      "Los productos son:\n",
      "{'CO2': 3.979, 'SO2': 0.003, 'N2': 20.49208242950108, 'H2O': 2.897, 'O2': 0.03949023861171286}\n",
      "La masa de combustible es de:  100.02 [kg]\n",
      "La masa de aire es de:  748.37 [kg]\n",
      "La masa de los productos es de:  {'CO2': 175.11181100000002, 'SO2': 0.192174, 'N2': 574.0651971800432, 'H2O': 52.189454999999995, 'O2': 1.263608655097588}\n",
      "La suma de masa de los productos es de:  803 [kg]\n",
      "Existe una diferencia de  45 en el balance de masa\n",
      "La relación Aire / Combustible (RAC) másico es: 7.48\n",
      "La relación Gases húmedos / Combustible es: 8.03\n",
      "La relación Gases secos / Combustible es: 7.50810545\n",
      "La presión parcial es: 10708.953 [Pa]\n",
      "La temperatura de rocío es:  47.153 °C\n",
      "El factor fd es: 0.010560052789324452 cubic_foot / british_thermal_unit\n",
      "El factor fw es: 0.012178179517480178 cubic_foot / british_thermal_unit\n",
      "El factor fc es: 0.002213348034942754 cubic_foot / british_thermal_unit\n",
      "El flujo de gases secos según EPA es: 11024.660983674923 cubic_foot / minute\n",
      "El flujo de gases húmedos según EPA es: 12713.980058346062 cubic_foot / minute\n",
      "El flujo de gases CO2 según EPA es: 2310.7281952979656 cubic_foot / minute\n"
     ]
    }
   ],
   "source": [
    "#Exceso aire\n",
    "fuel_dry = delete_ash_water(fuel_wet)\n",
    "fuel = elemental_composition(fuel_dry)\n",
    "react, prods = get_reactants_and_products(fuel, razon_N2O2)\n",
    "react, prods = get_excess_air(react, prods, lambda_aire)\n",
    "fmass, airemass, productos_mass = get_mass_molecular(react, prods)\n",
    "rac, rac_seco,rac_humedo = get_rac(airemass, fmass, productos_mass)\n",
    "temp_rocio, p_parcial = get_temperatura_rocio(prods)\n",
    "fd, fw, fc = epa_factors(fuel_dry, PCS)\n",
    "epa = get_epa_flows(flujo_masa_combustible, PCS, lambda_aire, fd, fw, fc)"
   ],
   "metadata": {
    "collapsed": false,
    "pycharm": {
     "name": "#%%\n"
    }
   }
  },
  {
   "cell_type": "code",
   "execution_count": 139,
   "outputs": [
    {
     "name": "stdout",
     "output_type": "stream",
     "text": [
      "La masa de combustible es de:  100.02 [kg]\n",
      "La masa de aire es de:  547.61 [kg]\n",
      "La masa de los productos es de:  {'CO2': 174.01158600000002, 'SO2': 0.192174, 'N2': 573.8667899999999, 'H2O': 52.189454999999995, 'O2': 47.517030000000005, 'CO': 0.70025}\n",
      "La suma de masa de los productos es de:  848 [kg]\n",
      "Se comprueba la conservación de masa\n",
      "La relación Aire / Combustible (RAC) másico es: 5.48\n",
      "La relación Gases húmedos / Combustible es: 8.48\n",
      "La relación Gases secos / Combustible es: 7.958105450000001\n",
      "La presión parcial es: 10174.998 [Pa]\n",
      "La temperatura de rocío es:  46.146 °C\n",
      "El factor fd es: 0.010560052789324452 cubic_foot / british_thermal_unit\n",
      "El factor fw es: 0.012178179517480178 cubic_foot / british_thermal_unit\n",
      "El factor fc es: 0.002213348034942754 cubic_foot / british_thermal_unit\n",
      "El flujo de gases secos según EPA es: 11024.660983674923 cubic_foot / minute\n",
      "El flujo de gases húmedos según EPA es: 12713.980058346062 cubic_foot / minute\n",
      "El flujo de gases CO2 según EPA es: 2310.7281952979656 cubic_foot / minute\n"
     ]
    }
   ],
   "source": [
    "#Exceso aire\n",
    "react = {'C': 3.979, 'H': 5.794, 'O': 2.887, 'S': 0.003, 'N': 0.007, 'O2': 5.447245119305856, 'N2': 20.49208242950108}\n",
    "prods = {'CO2': 3.954, 'SO2': 0.003, 'N2': 20.485, 'H2O': 2.897, 'O2': 1.485 , 'CO': 0.025}\n",
    "fmass, airemass, productos_mass = get_mass_molecular(react, prods)\n",
    "rac, rac_seco,rac_humedo = get_rac(airemass, fmass, productos_mass)\n",
    "temp_rocio, p_parcial = get_temperatura_rocio(prods)\n",
    "fd, fw, fc = epa_factors(fuel_dry, PCS)\n",
    "epa = get_epa_flows(flujo_masa_combustible, PCS, lambda_aire, fd, fw, fc)"
   ],
   "metadata": {
    "collapsed": false,
    "pycharm": {
     "name": "#%%\n"
    }
   }
  },
  {
   "cell_type": "code",
   "execution_count": 155,
   "outputs": [
    {
     "data": {
      "text/plain": "21601.18937315595 <Unit('meter ** 3 / hour')>",
      "text/html": "21601.18937315595 meter<sup>3</sup>/hour",
      "text/latex": "$21601.18937315595\\ \\frac{\\mathrm{meter}^{3}}{\\mathrm{hour}}$"
     },
     "execution_count": 155,
     "metadata": {},
     "output_type": "execute_result"
    }
   ],
   "source": [
    "epa[1].to('meter**3/h')"
   ],
   "metadata": {
    "collapsed": false,
    "pycharm": {
     "name": "#%%\n"
    }
   }
  },
  {
   "cell_type": "code",
   "execution_count": 126,
   "outputs": [
    {
     "data": {
      "text/plain": "1.2473797263138247 <Unit('kilogram / meter ** 3')>",
      "text/html": "1.2473797263138247 kilogram/meter<sup>3</sup>",
      "text/latex": "$1.2473797263138247\\ \\frac{\\mathrm{kilogram}}{\\mathrm{meter}^{3}}$"
     },
     "execution_count": 126,
     "metadata": {},
     "output_type": "execute_result"
    }
   ],
   "source": [
    "#Auxiliar para cálcular densidades\n",
    "rho_gas = cm.gas_density.rhog(cm.mw('NO'), 101325, (20+273.15))/ ureg.meter**3 * ureg.kilogram\n",
    "rho_gas#.to('lb/cubic_feet').magnitude"
   ],
   "metadata": {
    "collapsed": false,
    "pycharm": {
     "name": "#%%\n"
    }
   }
  },
  {
   "cell_type": "code",
   "execution_count": 127,
   "outputs": [
    {
     "data": {
      "text/plain": "30.006"
     },
     "execution_count": 127,
     "metadata": {},
     "output_type": "execute_result"
    }
   ],
   "source": [
    "#Auxiliar para pesos moleculares\n",
    "cm.mw('NO')"
   ],
   "metadata": {
    "collapsed": false,
    "pycharm": {
     "name": "#%%\n"
    }
   }
  },
  {
   "cell_type": "code",
   "execution_count": 70,
   "outputs": [
    {
     "data": {
      "text/plain": "217.43333333333337"
     },
     "execution_count": 70,
     "metadata": {},
     "output_type": "execute_result"
    }
   ],
   "source": [
    "info_caldera['Temperatura Gases [°C]'].mean()"
   ],
   "metadata": {
    "collapsed": false,
    "pycharm": {
     "name": "#%%\n"
    }
   }
  },
  {
   "cell_type": "code",
   "execution_count": 101,
   "outputs": [
    {
     "data": {
      "text/plain": "21601.18937315595"
     },
     "execution_count": 101,
     "metadata": {},
     "output_type": "execute_result"
    }
   ],
   "source": [
    "#Auxiliar para flujos volumétricos\n",
    "a = flujo_masa_combustible * PCS.to('british_thermal_units/lb') * fw * lambda_aire\n",
    "a.to('meter**3/h').magnitude"
   ],
   "metadata": {
    "collapsed": false,
    "pycharm": {
     "name": "#%%\n"
    }
   }
  }
 ],
 "metadata": {
  "kernelspec": {
   "display_name": "Python 3",
   "language": "python",
   "name": "python3"
  },
  "language_info": {
   "codemirror_mode": {
    "name": "ipython",
    "version": 2
   },
   "file_extension": ".py",
   "mimetype": "text/x-python",
   "name": "python",
   "nbconvert_exporter": "python",
   "pygments_lexer": "ipython2",
   "version": "2.7.6"
  }
 },
 "nbformat": 4,
 "nbformat_minor": 0
}